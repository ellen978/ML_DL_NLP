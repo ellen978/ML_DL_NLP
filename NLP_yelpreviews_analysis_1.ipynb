{
 "cells": [
  {
   "cell_type": "code",
   "execution_count": 1,
   "metadata": {},
   "outputs": [
    {
     "name": "stdout",
     "output_type": "stream",
     "text": [
      "[nltk_data] Downloading package punkt to\n",
      "[nltk_data]     C:\\Users\\Yunsun2\\AppData\\Roaming\\nltk_data...\n",
      "[nltk_data]   Package punkt is already up-to-date!\n",
      "[nltk_data] Downloading package stopwords to\n",
      "[nltk_data]     C:\\Users\\Yunsun2\\AppData\\Roaming\\nltk_data...\n",
      "[nltk_data]   Package stopwords is already up-to-date!\n"
     ]
    },
    {
     "data": {
      "text/plain": [
       "True"
      ]
     },
     "execution_count": 1,
     "metadata": {},
     "output_type": "execute_result"
    }
   ],
   "source": [
    "import pandas as pd\n",
    "import numpy as np\n",
    "import matplotlib.pyplot as plt\n",
    "import seaborn as sns\n",
    "%matplotlib inline\n",
    "\n",
    "import nltk   \n",
    "nltk.download('punkt')\n",
    "nltk.download('stopwords')\n",
    "#Good reference: https://www.analyticsvidhya.com/blog/2018/02/the-different-methods-deal-text-data-predictive-python/  \n",
    "'''\n",
    "pipe=Pipeline([('bow', CountVectorizer()),\n",
    "               ('tfidf', TfidfTransformer()), \n",
    "               ('model', MultinomialNB())])  \n",
    "pipe.fit(xtrain, ytrain)\n",
    "pred=pipe.predict(xtest)\n",
    "'''"
   ]
  },
  {
   "cell_type": "code",
   "execution_count": 191,
   "metadata": {},
   "outputs": [
    {
     "name": "stdout",
     "output_type": "stream",
     "text": [
      "4    3526\n",
      "5    3337\n",
      "3    1461\n",
      "2     927\n",
      "1     749\n",
      "Name: stars, dtype: int64\n",
      "4    0.3526\n",
      "5    0.3337\n",
      "3    0.1461\n",
      "2    0.0927\n",
      "1    0.0749\n",
      "Name: stars, dtype: float64\n"
     ]
    }
   ],
   "source": [
    "data=pd.read_csv('C:/Users/Yunsun2/Desktop/Github/yelp.csv')\n",
    "print(data['stars'].value_counts())\n",
    "print(data['stars'].value_counts()/len(data.index))"
   ]
  },
  {
   "cell_type": "code",
   "execution_count": 192,
   "metadata": {},
   "outputs": [
    {
     "name": "stdout",
     "output_type": "stream",
     "text": [
      "              business_id        date               review_id  stars  \\\n",
      "0  9yKzy9PApeiPPOUJEtnvkg  2011-01-26  fWKvX83p0-ka4JS3dc6E5A      5   \n",
      "1  ZRJwVLyzEJq1VAihDhYiow  2011-07-27  IjZ33sJrzXqU-0X6U8NwyA      5   \n",
      "2  6oRAC4uyJCsJl1X0WZpVSA  2012-06-14  IESLBzqUCLdSzSqm0eCSxQ      4   \n",
      "3  _1QQZuf4zZOyFCvXc0o6Vg  2010-05-27  G-WvGaISbqqaMHlNnByodA      5   \n",
      "4  6ozycU1RpktNG2-1BroVtw  2012-01-05  1uJFq2r5QfJG_6ExMRCaGw      5   \n",
      "\n",
      "                                                text    type  \\\n",
      "0  My wife took me here on my birthday for breakf...  review   \n",
      "1  I have no idea why some people give bad review...  review   \n",
      "2  love the gyro plate. Rice is so good and I als...  review   \n",
      "3  Rosie, Dakota, and I LOVE Chaparral Dog Park!!...  review   \n",
      "4  General Manager Scott Petello is a good egg!!!...  review   \n",
      "\n",
      "                  user_id  cool  useful  funny  \\\n",
      "0  rLtl8ZkDX5vH5nAx9C3q5Q     2       5      0   \n",
      "1  0a2KyEL0d3Yb1V6aivbIuQ     0       0      0   \n",
      "2  0hT2KtfLiobPvh6cDC8JQg     0       1      0   \n",
      "3  uZetl9T0NcROGOyFfughhg     1       2      0   \n",
      "4  vYmM4KTsC8ZfQBg-j5MWkw     0       0      0   \n",
      "\n",
      "                                               textc  \n",
      "0  [wife, took, birthday, breakfast, excellent, w...  \n",
      "1  [idea, people, give, bad, reviews, place, goes...  \n",
      "2  [love, gyro, plate, rice, good, also, dig, can...  \n",
      "3  [rosie, dakota, love, chaparral, dog, park, co...  \n",
      "4  [general, manager, scott, petello, good, egg, ...  \n"
     ]
    }
   ],
   "source": [
    "import string\n",
    "from nltk.corpus import stopwords\n",
    "def preprocessing(rawtext):\n",
    "    w=\"\".join(c.lower() for c in rawtext if (c not in string.punctuation) and (not c.isdigit())) \n",
    "    \n",
    "    #return \" \".join([i for i in w.split() if i not in stopwords.words('english')])\n",
    "    return [i for i in w.split() if i not in stopwords.words('english')]\n",
    "\n",
    "data['textc']=data['text'].apply(preprocessing)\n",
    "print(data.head())\n",
    "###takes a long time to run...."
   ]
  },
  {
   "cell_type": "code",
   "execution_count": 198,
   "metadata": {},
   "outputs": [
    {
     "data": {
      "text/html": [
       "<div>\n",
       "<style>\n",
       "    .dataframe thead tr:only-child th {\n",
       "        text-align: right;\n",
       "    }\n",
       "\n",
       "    .dataframe thead th {\n",
       "        text-align: left;\n",
       "    }\n",
       "\n",
       "    .dataframe tbody tr th {\n",
       "        vertical-align: top;\n",
       "    }\n",
       "</style>\n",
       "<table border=\"1\" class=\"dataframe\">\n",
       "  <thead>\n",
       "    <tr style=\"text-align: right;\">\n",
       "      <th></th>\n",
       "      <th>business_id</th>\n",
       "      <th>date</th>\n",
       "      <th>review_id</th>\n",
       "      <th>stars</th>\n",
       "      <th>text</th>\n",
       "      <th>type</th>\n",
       "      <th>user_id</th>\n",
       "      <th>cool</th>\n",
       "      <th>useful</th>\n",
       "      <th>funny</th>\n",
       "      <th>textc</th>\n",
       "    </tr>\n",
       "  </thead>\n",
       "  <tbody>\n",
       "    <tr>\n",
       "      <th>0</th>\n",
       "      <td>9yKzy9PApeiPPOUJEtnvkg</td>\n",
       "      <td>2011-01-26</td>\n",
       "      <td>fWKvX83p0-ka4JS3dc6E5A</td>\n",
       "      <td>5</td>\n",
       "      <td>My wife took me here on my birthday for breakf...</td>\n",
       "      <td>review</td>\n",
       "      <td>rLtl8ZkDX5vH5nAx9C3q5Q</td>\n",
       "      <td>2</td>\n",
       "      <td>5</td>\n",
       "      <td>0</td>\n",
       "      <td>[wife, took, birthday, breakfast, excellent, w...</td>\n",
       "    </tr>\n",
       "    <tr>\n",
       "      <th>1</th>\n",
       "      <td>ZRJwVLyzEJq1VAihDhYiow</td>\n",
       "      <td>2011-07-27</td>\n",
       "      <td>IjZ33sJrzXqU-0X6U8NwyA</td>\n",
       "      <td>5</td>\n",
       "      <td>I have no idea why some people give bad review...</td>\n",
       "      <td>review</td>\n",
       "      <td>0a2KyEL0d3Yb1V6aivbIuQ</td>\n",
       "      <td>0</td>\n",
       "      <td>0</td>\n",
       "      <td>0</td>\n",
       "      <td>[idea, people, give, bad, reviews, place, goes...</td>\n",
       "    </tr>\n",
       "    <tr>\n",
       "      <th>2</th>\n",
       "      <td>6oRAC4uyJCsJl1X0WZpVSA</td>\n",
       "      <td>2012-06-14</td>\n",
       "      <td>IESLBzqUCLdSzSqm0eCSxQ</td>\n",
       "      <td>4</td>\n",
       "      <td>love the gyro plate. Rice is so good and I als...</td>\n",
       "      <td>review</td>\n",
       "      <td>0hT2KtfLiobPvh6cDC8JQg</td>\n",
       "      <td>0</td>\n",
       "      <td>1</td>\n",
       "      <td>0</td>\n",
       "      <td>[love, gyro, plate, rice, good, also, dig, can...</td>\n",
       "    </tr>\n",
       "    <tr>\n",
       "      <th>3</th>\n",
       "      <td>_1QQZuf4zZOyFCvXc0o6Vg</td>\n",
       "      <td>2010-05-27</td>\n",
       "      <td>G-WvGaISbqqaMHlNnByodA</td>\n",
       "      <td>5</td>\n",
       "      <td>Rosie, Dakota, and I LOVE Chaparral Dog Park!!...</td>\n",
       "      <td>review</td>\n",
       "      <td>uZetl9T0NcROGOyFfughhg</td>\n",
       "      <td>1</td>\n",
       "      <td>2</td>\n",
       "      <td>0</td>\n",
       "      <td>[rosie, dakota, love, chaparral, dog, park, co...</td>\n",
       "    </tr>\n",
       "    <tr>\n",
       "      <th>4</th>\n",
       "      <td>6ozycU1RpktNG2-1BroVtw</td>\n",
       "      <td>2012-01-05</td>\n",
       "      <td>1uJFq2r5QfJG_6ExMRCaGw</td>\n",
       "      <td>5</td>\n",
       "      <td>General Manager Scott Petello is a good egg!!!...</td>\n",
       "      <td>review</td>\n",
       "      <td>vYmM4KTsC8ZfQBg-j5MWkw</td>\n",
       "      <td>0</td>\n",
       "      <td>0</td>\n",
       "      <td>0</td>\n",
       "      <td>[general, manager, scott, petello, good, egg, ...</td>\n",
       "    </tr>\n",
       "  </tbody>\n",
       "</table>\n",
       "</div>"
      ],
      "text/plain": [
       "              business_id        date               review_id  stars  \\\n",
       "0  9yKzy9PApeiPPOUJEtnvkg  2011-01-26  fWKvX83p0-ka4JS3dc6E5A      5   \n",
       "1  ZRJwVLyzEJq1VAihDhYiow  2011-07-27  IjZ33sJrzXqU-0X6U8NwyA      5   \n",
       "2  6oRAC4uyJCsJl1X0WZpVSA  2012-06-14  IESLBzqUCLdSzSqm0eCSxQ      4   \n",
       "3  _1QQZuf4zZOyFCvXc0o6Vg  2010-05-27  G-WvGaISbqqaMHlNnByodA      5   \n",
       "4  6ozycU1RpktNG2-1BroVtw  2012-01-05  1uJFq2r5QfJG_6ExMRCaGw      5   \n",
       "\n",
       "                                                text    type  \\\n",
       "0  My wife took me here on my birthday for breakf...  review   \n",
       "1  I have no idea why some people give bad review...  review   \n",
       "2  love the gyro plate. Rice is so good and I als...  review   \n",
       "3  Rosie, Dakota, and I LOVE Chaparral Dog Park!!...  review   \n",
       "4  General Manager Scott Petello is a good egg!!!...  review   \n",
       "\n",
       "                  user_id  cool  useful  funny  \\\n",
       "0  rLtl8ZkDX5vH5nAx9C3q5Q     2       5      0   \n",
       "1  0a2KyEL0d3Yb1V6aivbIuQ     0       0      0   \n",
       "2  0hT2KtfLiobPvh6cDC8JQg     0       1      0   \n",
       "3  uZetl9T0NcROGOyFfughhg     1       2      0   \n",
       "4  vYmM4KTsC8ZfQBg-j5MWkw     0       0      0   \n",
       "\n",
       "                                               textc  \n",
       "0  [wife, took, birthday, breakfast, excellent, w...  \n",
       "1  [idea, people, give, bad, reviews, place, goes...  \n",
       "2  [love, gyro, plate, rice, good, also, dig, can...  \n",
       "3  [rosie, dakota, love, chaparral, dog, park, co...  \n",
       "4  [general, manager, scott, petello, good, egg, ...  "
      ]
     },
     "execution_count": 198,
     "metadata": {},
     "output_type": "execute_result"
    }
   ],
   "source": [
    "data['textc']"
   ]
  },
  {
   "cell_type": "code",
   "execution_count": 199,
   "metadata": {},
   "outputs": [],
   "source": [
    "from nltk import PorterStemmer, WordNetLemmatizer \n",
    "from nltk.corpus import wordnet  \n",
    "\n",
    "#Function: tagging with lemmatization\n",
    "lmtzr = nltk.WordNetLemmatizer().lemmatize \n",
    "\n",
    "def get_wordnet_pos(tag):\n",
    "    if tag.startswith('J'):\n",
    "        return wordnet.ADJ\n",
    "    elif tag.startswith('V'):\n",
    "        return wordnet.VERB\n",
    "    elif tag.startswith('N'):\n",
    "        return wordnet.NOUN\n",
    "    elif tag.startswith('R'):\n",
    "        return wordnet.ADV\n",
    "    else:\n",
    "        return wordnet.NOUN\n",
    "\n",
    "def normalize_text(text):\n",
    "    word_pos = nltk.pos_tag(nltk.word_tokenize(text))\n",
    "    #w[0] is word, w[1] is form of the word;  \n",
    "    lemm_words = [lmtzr(w[0], get_wordnet_pos(w[1])) for w in word_pos]  \n",
    "    return [x.lower() for x in lemm_words]\n",
    "\n",
    "data['textc']=data['textc'].apply(lambda x: \" \".join(x))  \n",
    "data['textc']=data['textc'].apply(normalize_text)\n",
    "data['textc']=data['textc'].apply(lambda x: \" \".join(x))"
   ]
  },
  {
   "cell_type": "code",
   "execution_count": 203,
   "metadata": {},
   "outputs": [
    {
     "data": {
      "text/html": [
       "<div>\n",
       "<style>\n",
       "    .dataframe thead tr:only-child th {\n",
       "        text-align: right;\n",
       "    }\n",
       "\n",
       "    .dataframe thead th {\n",
       "        text-align: left;\n",
       "    }\n",
       "\n",
       "    .dataframe tbody tr th {\n",
       "        vertical-align: top;\n",
       "    }\n",
       "</style>\n",
       "<table border=\"1\" class=\"dataframe\">\n",
       "  <thead>\n",
       "    <tr style=\"text-align: right;\">\n",
       "      <th></th>\n",
       "      <th>business_id</th>\n",
       "      <th>date</th>\n",
       "      <th>review_id</th>\n",
       "      <th>stars</th>\n",
       "      <th>text</th>\n",
       "      <th>type</th>\n",
       "      <th>user_id</th>\n",
       "      <th>cool</th>\n",
       "      <th>useful</th>\n",
       "      <th>funny</th>\n",
       "      <th>textc</th>\n",
       "    </tr>\n",
       "  </thead>\n",
       "  <tbody>\n",
       "    <tr>\n",
       "      <th>9995</th>\n",
       "      <td>VY_tvNUCCXGXQeSvJl757Q</td>\n",
       "      <td>2012-07-28</td>\n",
       "      <td>Ubyfp2RSDYW0g7Mbr8N3iA</td>\n",
       "      <td>3</td>\n",
       "      <td>First visit...Had lunch here today - used my G...</td>\n",
       "      <td>review</td>\n",
       "      <td>_eqQoPtQ3e3UxLE4faT6ow</td>\n",
       "      <td>1</td>\n",
       "      <td>2</td>\n",
       "      <td>0</td>\n",
       "      <td>first visithad lunch today use groupon order b...</td>\n",
       "    </tr>\n",
       "    <tr>\n",
       "      <th>9996</th>\n",
       "      <td>EKzMHI1tip8rC1-ZAy64yg</td>\n",
       "      <td>2012-01-18</td>\n",
       "      <td>2XyIOQKbVFb6uXQdJ0RzlQ</td>\n",
       "      <td>4</td>\n",
       "      <td>Should be called house of deliciousness!\\n\\nI ...</td>\n",
       "      <td>review</td>\n",
       "      <td>ROru4uk5SaYc3rg8IU7SQw</td>\n",
       "      <td>0</td>\n",
       "      <td>0</td>\n",
       "      <td>0</td>\n",
       "      <td>call house deliciousness could go item item bl...</td>\n",
       "    </tr>\n",
       "    <tr>\n",
       "      <th>9997</th>\n",
       "      <td>53YGfwmbW73JhFiemNeyzQ</td>\n",
       "      <td>2010-11-16</td>\n",
       "      <td>jyznYkIbpqVmlsZxSDSypA</td>\n",
       "      <td>4</td>\n",
       "      <td>I recently visited Olive and Ivy for business ...</td>\n",
       "      <td>review</td>\n",
       "      <td>gGbN1aKQHMgfQZkqlsuwzg</td>\n",
       "      <td>0</td>\n",
       "      <td>0</td>\n",
       "      <td>0</td>\n",
       "      <td>recently visit olive ivy business last week vi...</td>\n",
       "    </tr>\n",
       "    <tr>\n",
       "      <th>9998</th>\n",
       "      <td>9SKdOoDHcFoxK5ZtsgHJoA</td>\n",
       "      <td>2012-12-02</td>\n",
       "      <td>5UKq9WQE1qQbJ0DJbc-B6Q</td>\n",
       "      <td>2</td>\n",
       "      <td>My nephew just moved to Scottsdale recently so...</td>\n",
       "      <td>review</td>\n",
       "      <td>0lyVoNazXa20WzUyZPLaQQ</td>\n",
       "      <td>0</td>\n",
       "      <td>0</td>\n",
       "      <td>0</td>\n",
       "      <td>nephew move scottsdale recently bunch friend b...</td>\n",
       "    </tr>\n",
       "    <tr>\n",
       "      <th>9999</th>\n",
       "      <td>pF7uRzygyZsltbmVpjIyvw</td>\n",
       "      <td>2010-10-16</td>\n",
       "      <td>vWSmOhg2ID1MNZHaWapGbA</td>\n",
       "      <td>5</td>\n",
       "      <td>4-5 locations.. all 4.5 star average.. I think...</td>\n",
       "      <td>review</td>\n",
       "      <td>KSBFytcdjPKZgXKQnYQdkA</td>\n",
       "      <td>0</td>\n",
       "      <td>0</td>\n",
       "      <td>0</td>\n",
       "      <td>location star average think arizona really fan...</td>\n",
       "    </tr>\n",
       "  </tbody>\n",
       "</table>\n",
       "</div>"
      ],
      "text/plain": [
       "                 business_id        date               review_id  stars  \\\n",
       "9995  VY_tvNUCCXGXQeSvJl757Q  2012-07-28  Ubyfp2RSDYW0g7Mbr8N3iA      3   \n",
       "9996  EKzMHI1tip8rC1-ZAy64yg  2012-01-18  2XyIOQKbVFb6uXQdJ0RzlQ      4   \n",
       "9997  53YGfwmbW73JhFiemNeyzQ  2010-11-16  jyznYkIbpqVmlsZxSDSypA      4   \n",
       "9998  9SKdOoDHcFoxK5ZtsgHJoA  2012-12-02  5UKq9WQE1qQbJ0DJbc-B6Q      2   \n",
       "9999  pF7uRzygyZsltbmVpjIyvw  2010-10-16  vWSmOhg2ID1MNZHaWapGbA      5   \n",
       "\n",
       "                                                   text    type  \\\n",
       "9995  First visit...Had lunch here today - used my G...  review   \n",
       "9996  Should be called house of deliciousness!\\n\\nI ...  review   \n",
       "9997  I recently visited Olive and Ivy for business ...  review   \n",
       "9998  My nephew just moved to Scottsdale recently so...  review   \n",
       "9999  4-5 locations.. all 4.5 star average.. I think...  review   \n",
       "\n",
       "                     user_id  cool  useful  funny  \\\n",
       "9995  _eqQoPtQ3e3UxLE4faT6ow     1       2      0   \n",
       "9996  ROru4uk5SaYc3rg8IU7SQw     0       0      0   \n",
       "9997  gGbN1aKQHMgfQZkqlsuwzg     0       0      0   \n",
       "9998  0lyVoNazXa20WzUyZPLaQQ     0       0      0   \n",
       "9999  KSBFytcdjPKZgXKQnYQdkA     0       0      0   \n",
       "\n",
       "                                                  textc  \n",
       "9995  first visithad lunch today use groupon order b...  \n",
       "9996  call house deliciousness could go item item bl...  \n",
       "9997  recently visit olive ivy business last week vi...  \n",
       "9998  nephew move scottsdale recently bunch friend b...  \n",
       "9999  location star average think arizona really fan...  "
      ]
     },
     "execution_count": 203,
     "metadata": {},
     "output_type": "execute_result"
    }
   ],
   "source": [
    "data.tail()"
   ]
  },
  {
   "cell_type": "code",
   "execution_count": 204,
   "metadata": {},
   "outputs": [
    {
     "name": "stdout",
     "output_type": "stream",
     "text": [
      "30521\n"
     ]
    }
   ],
   "source": [
    "#For intermediate data checking; \n",
    "#Create bag of words and frequency on whole dataset\n",
    "import collections\n",
    "worddic=collections.Counter() \n",
    "for i in data['textc']: #each line\n",
    "    #for j in i:  #i is list;  #each word; \n",
    "    for j in i.split(): #i is a paragraph; \n",
    "        worddic[j]+=1\n",
    "        \n",
    "print(len(worddic))  \n",
    "#36,271->35014 words (after removing digits), ->30521 after lemmatization -> 14111 after remove rare words \n",
    "#-> 6259remove less than 6 apperance in all reviews;  \n",
    "\n",
    "#print(sorted(worddic.values(), reverse=True))\n",
    "#print(sum(1 for i in worddic.keys() if i.isdigit()))\n",
    "#no digits now; "
   ]
  },
  {
   "cell_type": "code",
   "execution_count": 205,
   "metadata": {},
   "outputs": [
    {
     "name": "stdout",
     "output_type": "stream",
     "text": [
      "16410\n",
      "0.5376625929687756\n"
     ]
    }
   ],
   "source": [
    "#word frequency\n",
    "pd.DataFrame(sorted(worddic.values(), reverse=True)).describe(percentiles=[0.01, 0.05, 0.10, 0.25, 0.5, 0.75, 0.9, 0.95, 0.99])\n",
    "\n",
    "rare_words=[k for k, v in worddic.items() if v==1]  #16410 words (53%) with only 1 occurance, to remove!;  \n",
    "\n",
    "print(len(rare_words))\n",
    "print(len(rare_words)/len(worddic))"
   ]
  },
  {
   "cell_type": "code",
   "execution_count": 206,
   "metadata": {
    "scrolled": true
   },
   "outputs": [],
   "source": [
    "#remove rare words with only 1 occurance throughout whole data; \n",
    "data['textc']=data['textc'].apply(lambda x: [i for i in x.split() if i not in rare_words]) "
   ]
  },
  {
   "cell_type": "code",
   "execution_count": 207,
   "metadata": {},
   "outputs": [],
   "source": [
    "#Create bag of words and frequency on occurance of documents, remove words that appear in most documents...\n",
    "##To-do...\n",
    "#words' document occurancy \n",
    "docfreq=collections.Counter() \n",
    "for i in data['textc']:\n",
    "    for j in set(i):\n",
    "        docfreq[j]+=1"
   ]
  },
  {
   "cell_type": "code",
   "execution_count": 208,
   "metadata": {},
   "outputs": [
    {
     "name": "stdout",
     "output_type": "stream",
     "text": [
      "                  0\n",
      "count  14111.000000\n",
      "mean      37.754022\n",
      "std      167.099528\n",
      "min        1.000000\n",
      "1%         1.000000\n",
      "5%         1.000000\n",
      "10%        2.000000\n",
      "25%        2.000000\n",
      "50%        5.000000\n",
      "60%        7.000000\n",
      "75%       15.000000\n",
      "90%       58.000000\n",
      "95%      146.000000\n",
      "99%      674.900000\n",
      "100%    4586.000000\n",
      "max     4586.000000\n",
      "7852\n"
     ]
    }
   ],
   "source": [
    "a=pd.DataFrame(sorted(docfreq.values(), reverse=True)).describe(percentiles=[0.01, 0.05, 0.10, 0.25, 0.5, 0.6, 0.75, 0.9, \n",
    "                                                                             0.95, 0.99, 1])\n",
    "print(a)\n",
    "'''\n",
    "#Most frequently doc-appeared words: words make sense, keep for now\n",
    "print(len([k for k, v in docfreq.items() if v>1000])) #only 76 words with doc-freq > 1000.\n",
    "print([k for k, v in docfreq.items() if v>1000])  #the words make sense, keep it. \n",
    "'''\n",
    "#Least frequently doc-appeared words: 762 strange words, can remove words show up only in 1 doc \n",
    "print(len([k for k, v in docfreq.items() if v<6])) #7852 words only appear in less than 6 reviews;\n",
    "#print([k for k, v in docfreq.items() if v<6])  #most are strange words, can be removed; "
   ]
  },
  {
   "cell_type": "code",
   "execution_count": 213,
   "metadata": {},
   "outputs": [],
   "source": [
    "#remove 7852 words that appear in less than 6 reviews; \n",
    "#raredoc_words=[k for k, v in docfreq.items() if v<6] #7852\n",
    "data['textc']=data['textc'].apply(lambda x: [i for i in x if i not in raredoc_words])  "
   ]
  },
  {
   "cell_type": "code",
   "execution_count": 214,
   "metadata": {},
   "outputs": [
    {
     "data": {
      "text/plain": [
       "6259"
      ]
     },
     "execution_count": 214,
     "metadata": {},
     "output_type": "execute_result"
    }
   ],
   "source": [
    "docfreq=collections.Counter() \n",
    "for i in data['textc']:\n",
    "    for j in set(i):\n",
    "        docfreq[j]+=1\n",
    "len(docfreq.keys())"
   ]
  },
  {
   "cell_type": "code",
   "execution_count": 217,
   "metadata": {},
   "outputs": [],
   "source": [
    "data['text_len']=data['textc'].apply(len)"
   ]
  },
  {
   "cell_type": "code",
   "execution_count": 219,
   "metadata": {},
   "outputs": [
    {
     "data": {
      "image/png": "[encoded data removed]",
      "text/plain": [
       "<matplotlib.figure.Figure at 0x2377ec50>"
      ]
     },
     "metadata": {},
     "output_type": "display_data"
    }
   ],
   "source": [
    "g=sns.FacetGrid(data=data, col='stars', size=5, aspect=1.5, palette='coolwarm')\n",
    "g.map(plt.hist, 'text_len', bins=100, alpha=0.5)\n",
    "plt.legend()  "
   ]
  },
  {
   "cell_type": "code",
   "execution_count": 283,
   "metadata": {},
   "outputs": [],
   "source": [
    "from sklearn.cross_validation import train_test_split\n",
    "from sklearn.metrics import classification_report, confusion_matrix, accuracy_score\n",
    "from sklearn.naive_bayes import MultinomialNB\n",
    "from sklearn.pipeline import Pipeline\n",
    "from sklearn.feature_extraction.text import TfidfVectorizer\n",
    "\n",
    "\n",
    "#data['textc']=data['textc'].apply(lambda x: \" \".join(x))\n",
    "\n",
    "vectorizer=TfidfVectorizer(min_df=2, ngram_range=(1, 1), stop_words='english', max_features=10000, strip_accents='unicode', \n",
    "                           norm='l2')\n",
    "Z=data.drop('textc', axis=1)\n",
    "X=data['textc'] #will add other features back later on for another analysis;   \n",
    "\n",
    "rs=9876\n",
    "x_train, x_test, ztrain, ztest = train_test_split(X, Z, test_size=0.3, random_state=rs) \n",
    "\n",
    "xtrain=vectorizer.fit_transform(x_train).todense()\n",
    "xtest=vectorizer.transform(x_test).todense()"
   ]
  },
  {
   "cell_type": "code",
   "execution_count": 341,
   "metadata": {},
   "outputs": [],
   "source": [
    "#xtrain.toarray()\n",
    "'''\n",
    "print(xtrain.shape) #7000 reviews (row), 6046 features (cols)\n",
    "print(pd.DataFrame(xtrain))  #if above .toarray(), then the frequency corresponds to each feature name. now the score; \n",
    "vectorizer.get_feature_names()  #6046, sorted alphabatically.\n",
    "'''\n",
    "col = ['feat_'+i for i in vectorizer.get_feature_names()]\n",
    "_xtrain = pd.DataFrame(xtrain, columns=col)  #feature names added\n",
    "_xtest = pd.DataFrame(xtest, columns=col)  #row index from 0 to 6999. \n",
    "#print(_xtest.head())\n",
    "\n",
    "temptrain=ztrain.loc[:, ['cool', 'useful', 'funny', 'text_len']].reset_index(drop=True)\n",
    "trainfull=pd.concat([temptrain, _xtrain], axis=1)\n",
    "\n",
    "temptest=ztest.loc[:, ['cool', 'useful', 'funny', 'text_len']].reset_index(drop=True)\n",
    "testfull=pd.concat([temptest, _xtest], axis=1)\n",
    "\n",
    "ytrain=ztrain['stars']\n",
    "ytest=ztest['stars']"
   ]
  },
  {
   "cell_type": "code",
   "execution_count": 345,
   "metadata": {},
   "outputs": [
    {
     "data": {
      "image/png": "[encoded data removed]",
      "text/plain": [
       "<matplotlib.figure.Figure at 0x1e822e48>"
      ]
     },
     "metadata": {},
     "output_type": "display_data"
    },
    {
     "name": "stdout",
     "output_type": "stream",
     "text": [
      "RandomForest predictions with default hyparameters for Test\n",
      "\n",
      "Accuracy\n",
      "0.465333333333\n",
      "[[ 49   4   2 122  68]\n",
      " [  7   5  10 216  48]\n",
      " [  1   0   4 360  79]\n",
      " [  2   0   3 705 318]\n",
      " [  1   0   1 362 633]]\n",
      "             precision    recall  f1-score   support\n",
      "\n",
      "          1       0.82      0.20      0.32       245\n",
      "          2       0.56      0.02      0.03       286\n",
      "          3       0.20      0.01      0.02       444\n",
      "          4       0.40      0.69      0.50      1028\n",
      "          5       0.55      0.63      0.59       997\n",
      "\n",
      "avg / total       0.47      0.47      0.40      3000\n",
      "\n",
      "RandomForestpredictions with default hyparameters for Train\n",
      "\n",
      "Accuracy\n",
      "1.0\n"
     ]
    }
   ],
   "source": [
    "from sklearn.linear_model import LogisticRegression\n",
    "from sklearn.tree import DecisionTreeClassifier\n",
    "from sklearn.ensemble import RandomForestClassifier\n",
    "from xgboost.sklearn import XGBClassifier\n",
    "\n",
    "result=pd.DataFrame()\n",
    "def classifier(classifier, cname, rs): \n",
    "    model=classifier\n",
    "    global result\n",
    "\n",
    "    model.fit(trainfull, ytrain)\n",
    "    pred=model.predict(testfull)\n",
    "    tpred=model.predict(trainfull)\n",
    "    \n",
    "    predproba=pd.DataFrame(model.predict_proba(testfull))\n",
    "    tpredproba=pd.DataFrame(model.predict_proba(trainfull))\n",
    "    \n",
    "    sns.distplot(predproba[1], label=str(cname))  \n",
    "    plt.title(\"Distribution of Prediction Probabilities\") \n",
    "    plt.legend()\n",
    "    plt.show() ###     \n",
    "    \n",
    "    print(cname + ' predictions with default hyparameters for Test'+'\\n')\n",
    "    print('Accuracy')\n",
    "    print(accuracy_score(ytest, pred, normalize=True))\n",
    "    print(confusion_matrix(ytest, pred))\n",
    "    print(classification_report(ytest, pred))  \n",
    "    \n",
    "    print(cname + 'predictions with default hyparameters for Train'+'\\n')\n",
    "    print('Accuracy')\n",
    "    print(accuracy_score(ytrain, tpred, normalize=True))\n",
    "\n",
    "    \n",
    "    #compare bad predictions of different models; \n",
    "    result=pd.concat([result, pd.DataFrame(pred)], axis=1) #to merge the predicted labels back to the dataset;\n",
    "    result.rename(columns={0:str(cname + '_pred')}, inplace=True)\n",
    "    \n",
    "#classifier(XGBClassifier(random_state=rs), 'XGBoost', 300)    \n",
    "classifier(RandomForestClassifier(random_state=rs, n_estimators=500), 'RandomForest', 300)\n",
    "#classifier(LogisticRegression(random_state=rs), 'LogisticRegression', 300)"
   ]
  }
 ],
 "metadata": {
  "kernelspec": {
   "display_name": "Python 3",
   "language": "python",
   "name": "python3"
  },
  "language_info": {
   "codemirror_mode": {
    "name": "ipython",
    "version": 3
   },
   "file_extension": ".py",
   "mimetype": "text/x-python",
   "name": "python",
   "nbconvert_exporter": "python",
   "pygments_lexer": "ipython3",
   "version": "3.6.3"
  }
 },
 "nbformat": 4,
 "nbformat_minor": 2
}
