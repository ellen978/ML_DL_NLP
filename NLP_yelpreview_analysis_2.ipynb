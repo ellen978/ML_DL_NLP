{
 "cells": [
  {
   "cell_type": "code",
   "execution_count": 2,
   "metadata": {},
   "outputs": [
    {
     "name": "stdout",
     "output_type": "stream",
     "text": [
      "[nltk_data] Downloading package punkt to\n",
      "[nltk_data]     C:\\Users\\Yunsun2\\AppData\\Roaming\\nltk_data...\n",
      "[nltk_data]   Package punkt is already up-to-date!\n",
      "[nltk_data] Downloading package stopwords to\n",
      "[nltk_data]     C:\\Users\\Yunsun2\\AppData\\Roaming\\nltk_data...\n",
      "[nltk_data]   Package stopwords is already up-to-date!\n"
     ]
    }
   ],
   "source": [
    "import pandas as pd\n",
    "import numpy as np\n",
    "import matplotlib.pyplot as plt\n",
    "import seaborn as sns\n",
    "%matplotlib inline\n",
    "\n",
    "import nltk   \n",
    "nltk.download('punkt')\n",
    "nltk.download('stopwords')\n",
    "from nltk.corpus import stopwords, wordnet\n",
    "from nltk import PorterStemmer, WordNetLemmatizer \n",
    "\n",
    "import string\n",
    "import collections"
   ]
  },
  {
   "cell_type": "code",
   "execution_count": null,
   "metadata": {
    "collapsed": true
   },
   "outputs": [],
   "source": [
    "##Notes\n",
    "#to view full long text, by iloc()\n",
    "#a=pd.DataFrame(data['textc']).iloc[1, 0]  "
   ]
  },
  {
   "cell_type": "code",
   "execution_count": 3,
   "metadata": {
    "collapsed": true
   },
   "outputs": [],
   "source": [
    "data=pd.read_csv('C:/Users/Yunsun2/Desktop/Github/yelp.csv')"
   ]
  },
  {
   "cell_type": "code",
   "execution_count": 4,
   "metadata": {
    "collapsed": true
   },
   "outputs": [],
   "source": [
    "#the stopwords also remove the negative sense words (not, don't), thus abdoned the use of stopwords here. \n",
    "#only remove punctuation & digits (much faster!)\n",
    "def preprocessing(rawtext):\n",
    "    w=\"\".join(c.lower() for c in rawtext if (c not in string.punctuation) and (not c.isdigit())) \n",
    "    return w\n",
    "    \n",
    "data['textc']=data['text'].apply(preprocessing)"
   ]
  },
  {
   "cell_type": "code",
   "execution_count": 5,
   "metadata": {
    "collapsed": true
   },
   "outputs": [],
   "source": [
    "#Function: tagging with lemmatization\n",
    "lmtzr = nltk.WordNetLemmatizer().lemmatize \n",
    "\n",
    "def get_wordnet_pos(tag):\n",
    "    if tag.startswith('J'):\n",
    "        return wordnet.ADJ\n",
    "    elif tag.startswith('V'):\n",
    "        return wordnet.VERB\n",
    "    elif tag.startswith('N'):\n",
    "        return wordnet.NOUN\n",
    "    elif tag.startswith('R'):\n",
    "        return wordnet.ADV\n",
    "    else:\n",
    "        return wordnet.NOUN\n",
    "\n",
    "def normalize_text(text):\n",
    "    word_pos = nltk.pos_tag(nltk.word_tokenize(text)) \n",
    "    lemm_words = [lmtzr(w[0], get_wordnet_pos(w[1])) for w in word_pos]  #w[0] is word, w[1] is form of the word; \n",
    "    return [x.lower() for x in lemm_words]\n",
    "\n",
    "data['textc']=data['textc'].apply(normalize_text)\n",
    "data['textc']=data['textc'].apply(lambda x: \" \".join(x))"
   ]
  },
  {
   "cell_type": "code",
   "execution_count": 6,
   "metadata": {},
   "outputs": [
    {
     "name": "stdout",
     "output_type": "stream",
     "text": [
      "30220\n"
     ]
    }
   ],
   "source": [
    "#Bag of all words\n",
    "worddic=collections.Counter() \n",
    "for i in data['textc']: #each line\n",
    "    #for j in i:  #i is list;  #each word; \n",
    "    for j in i.split(): #i is a paragraph; \n",
    "        worddic[j]+=1\n",
    "        \n",
    "print(len(worddic)) #30220 in total; "
   ]
  },
  {
   "cell_type": "code",
   "execution_count": 7,
   "metadata": {},
   "outputs": [
    {
     "data": {
      "text/html": [
       "<div>\n",
       "<style>\n",
       "    .dataframe thead tr:only-child th {\n",
       "        text-align: right;\n",
       "    }\n",
       "\n",
       "    .dataframe thead th {\n",
       "        text-align: left;\n",
       "    }\n",
       "\n",
       "    .dataframe tbody tr th {\n",
       "        vertical-align: top;\n",
       "    }\n",
       "</style>\n",
       "<table border=\"1\" class=\"dataframe\">\n",
       "  <thead>\n",
       "    <tr style=\"text-align: right;\">\n",
       "      <th></th>\n",
       "      <th>0</th>\n",
       "    </tr>\n",
       "  </thead>\n",
       "  <tbody>\n",
       "    <tr>\n",
       "      <th>count</th>\n",
       "      <td>30220.000000</td>\n",
       "    </tr>\n",
       "    <tr>\n",
       "      <th>mean</th>\n",
       "      <td>42.825645</td>\n",
       "    </tr>\n",
       "    <tr>\n",
       "      <th>std</th>\n",
       "      <td>770.720132</td>\n",
       "    </tr>\n",
       "    <tr>\n",
       "      <th>min</th>\n",
       "      <td>1.000000</td>\n",
       "    </tr>\n",
       "    <tr>\n",
       "      <th>1%</th>\n",
       "      <td>1.000000</td>\n",
       "    </tr>\n",
       "    <tr>\n",
       "      <th>5%</th>\n",
       "      <td>1.000000</td>\n",
       "    </tr>\n",
       "    <tr>\n",
       "      <th>10%</th>\n",
       "      <td>1.000000</td>\n",
       "    </tr>\n",
       "    <tr>\n",
       "      <th>25%</th>\n",
       "      <td>1.000000</td>\n",
       "    </tr>\n",
       "    <tr>\n",
       "      <th>50%</th>\n",
       "      <td>1.000000</td>\n",
       "    </tr>\n",
       "    <tr>\n",
       "      <th>55.0%</th>\n",
       "      <td>2.000000</td>\n",
       "    </tr>\n",
       "    <tr>\n",
       "      <th>60%</th>\n",
       "      <td>2.000000</td>\n",
       "    </tr>\n",
       "    <tr>\n",
       "      <th>65%</th>\n",
       "      <td>2.000000</td>\n",
       "    </tr>\n",
       "    <tr>\n",
       "      <th>70%</th>\n",
       "      <td>3.000000</td>\n",
       "    </tr>\n",
       "    <tr>\n",
       "      <th>75%</th>\n",
       "      <td>5.000000</td>\n",
       "    </tr>\n",
       "    <tr>\n",
       "      <th>80%</th>\n",
       "      <td>7.000000</td>\n",
       "    </tr>\n",
       "    <tr>\n",
       "      <th>85%</th>\n",
       "      <td>11.000000</td>\n",
       "    </tr>\n",
       "    <tr>\n",
       "      <th>90%</th>\n",
       "      <td>22.000000</td>\n",
       "    </tr>\n",
       "    <tr>\n",
       "      <th>95%</th>\n",
       "      <td>65.000000</td>\n",
       "    </tr>\n",
       "    <tr>\n",
       "      <th>99%</th>\n",
       "      <td>566.100000</td>\n",
       "    </tr>\n",
       "    <tr>\n",
       "      <th>99.2%</th>\n",
       "      <td>718.744000</td>\n",
       "    </tr>\n",
       "    <tr>\n",
       "      <th>99.4%</th>\n",
       "      <td>1049.686000</td>\n",
       "    </tr>\n",
       "    <tr>\n",
       "      <th>99.6%</th>\n",
       "      <td>1461.496000</td>\n",
       "    </tr>\n",
       "    <tr>\n",
       "      <th>99.8%</th>\n",
       "      <td>2882.686000</td>\n",
       "    </tr>\n",
       "    <tr>\n",
       "      <th>99.9%</th>\n",
       "      <td>5026.210000</td>\n",
       "    </tr>\n",
       "    <tr>\n",
       "      <th>max</th>\n",
       "      <td>66608.000000</td>\n",
       "    </tr>\n",
       "  </tbody>\n",
       "</table>\n",
       "</div>"
      ],
      "text/plain": [
       "                  0\n",
       "count  30220.000000\n",
       "mean      42.825645\n",
       "std      770.720132\n",
       "min        1.000000\n",
       "1%         1.000000\n",
       "5%         1.000000\n",
       "10%        1.000000\n",
       "25%        1.000000\n",
       "50%        1.000000\n",
       "55.0%      2.000000\n",
       "60%        2.000000\n",
       "65%        2.000000\n",
       "70%        3.000000\n",
       "75%        5.000000\n",
       "80%        7.000000\n",
       "85%       11.000000\n",
       "90%       22.000000\n",
       "95%       65.000000\n",
       "99%      566.100000\n",
       "99.2%    718.744000\n",
       "99.4%   1049.686000\n",
       "99.6%   1461.496000\n",
       "99.8%   2882.686000\n",
       "99.9%   5026.210000\n",
       "max    66608.000000"
      ]
     },
     "execution_count": 7,
     "metadata": {},
     "output_type": "execute_result"
    }
   ],
   "source": [
    "pd.DataFrame(sorted(worddic.values(), reverse=True)).describe(percentiles=[0.01, 0.05, 0.10, 0.25, \n",
    "                                                                           0.5, 0.55, 0.60, 0.65, \n",
    "                                                                           0.70, 0.75, 0.80, 0.85, \n",
    "                                                                           0.9, 0.95, \n",
    "                                                                           0.99, 0.992, 0.994, 0.996, 0.998, 0.999])"
   ]
  },
  {
   "cell_type": "code",
   "execution_count": 8,
   "metadata": {},
   "outputs": [
    {
     "name": "stdout",
     "output_type": "stream",
     "text": [
      "22645\n"
     ]
    }
   ],
   "source": [
    "#Rare words: strange/wrong/foreign words \n",
    "print(len([k for k, v in worddic.items() if v<5])) #22645; \n",
    "#print([k for k, v in worddic.items() if v<5])\n",
    "rarebow=set([k for k, v in worddic.items() if v<5])   #**************to use for later removal**************; \n",
    "#print(rarebow)"
   ]
  },
  {
   "cell_type": "code",
   "execution_count": 9,
   "metadata": {},
   "outputs": [
    {
     "name": "stdout",
     "output_type": "stream",
     "text": [
      "Number of words w/ counts more than 700: 1362\n",
      "Number of words w/ counts more than 800: 1200\n",
      "Number of words w/ counts more than 900: 1067\n",
      "Number of words w/ counts more than 1000: 976\n",
      "Number of words w/ counts more than 1100: 870\n",
      "Number of words w/ counts more than 1200: 741\n"
     ]
    }
   ],
   "source": [
    "#Most frequent words overview; \n",
    "lt=range(700, 1300, 100)\n",
    "for l in lt:\n",
    "    r=\" \".join([k for k, v in worddic.items() if v>l]) \n",
    "    print('Number of words w/ counts more than {}: {}'.format(l, len(r)))\n",
    "#use 1000 as threshold for this analysis; "
   ]
  },
  {
   "cell_type": "code",
   "execution_count": 33,
   "metadata": {},
   "outputs": [
    {
     "name": "stdout",
     "output_type": "stream",
     "text": [
      "{'in', 'we', 'visit', 'sauce', 'bar', 'them', 'order', 'hour', 'use', 'over', 'up', 'go', 'off', 'could', 'he', 'this', 'would', 'time', 'a', 'after', 'friend', 'other', 'year', 'experience', 'there', 'u', 'give', 'know', 'see', 'review', 'of', 'can', 'flavor', 'though', 'take', 'wait', 'restaurant', 'something', 'their', 'also', 'at', 'one', 'will', 'salad', 'look', 'back', 'have', 'way', 'and', 'her', 'say', 'which', 'how', 'while', 'burger', 'serve', 'location', 'me', 'it', 'lunch', 'that', 'what', 'since', 'to', 'area', 'from', 'around', 'too', 'beer', 'our', 'because', 'night', 'else', 'on', 'about', 'drink', 'as', 'do', 'before', 'seem', 'service', 'here', 'staff', 'day', 'or', 'people', 'they', 'side', 'meal', 'thing', 'menu', 'chicken', 'an', 'eat', 'when', 'with', 'your', 'price', 'if', 'the', 'some', 'im', 'need', 'than', 'pizza', 'try', 'come', 'want', 'by', 'now', 'for', 'sit', 'she', 'get', 'feel', 'you', 'make', 'my', 'be', 'bit', 'tell', 'i', 'find', 'who', 'place', 'two', 'work', 'ask', 'think', 'food'}\n",
      "130\n"
     ]
    }
   ],
   "source": [
    "\n",
    "#Further filter the group of 'most frequent words', together with tagging; \n",
    "mostbow=[k for k, v in worddic.items() if v>1000]  #list of most frequently appeared words; \n",
    "#print(mostbow)\n",
    "\n",
    "b=nltk.pos_tag(mostbow)\n",
    "c=set([i[1] for i in b]) #list of tags; \n",
    "d=[i[0] for i in b] #list of words;\n",
    "#print(sorted(list(c)))\n",
    "\n",
    "'''\n",
    "#********************************************************************\n",
    "#Manually check each tag category, for decision making; \n",
    "for i in b:\n",
    "    if i[1].startswith('T'):\n",
    "        print(i[0])\n",
    "#Remove C, D, I, M, P, T W (keep: like, no, any, but, every, all)\n",
    "#Remove N (keep: sure, everything, love, dont, didnt, taste, everyone, sunday)\n",
    "#Remove V (keep: fresh, better)\n",
    "\n",
    "#Keep J (remove: i, u, other)\n",
    "#Keep R (remove: about, else, as, here, up, i, back, also, too, there, around, now) \n",
    "#********************************************************************\n",
    "'''\n",
    "\n",
    "#create the most frequent word dic; \n",
    "#1st list to keep; \n",
    "tagtup = ('C', 'D', 'I', 'M', 'P', 'T', 'W', 'N', 'V')\n",
    "expt=['like', 'no', 'any', 'but', 'every', 'all', 'sure', 'everything', 'love', 'dont', \n",
    "   'didnt', 'taste', 'everyone', 'sunday', 'fresh', 'better']\n",
    "add=['i', 'u', 'other', 'about', 'else', 'as', 'here', 'up', 'i', 'back', 'also', 'too', 'there', 'around', 'now']\n",
    "\n",
    "\n",
    "mostfreqbow=set([i[0] for i in b if i[1].startswith(tagtup) and i[0] not in expt]+add) #*******to use for later removal*******;\n",
    "print(mostfreqbow)\n",
    "print(len(mostfreqbow))"
   ]
  },
  {
   "cell_type": "code",
   "execution_count": 41,
   "metadata": {},
   "outputs": [
    {
     "data": {
      "text/plain": [
       "22775"
      ]
     },
     "execution_count": 41,
     "metadata": {},
     "output_type": "execute_result"
    }
   ],
   "source": [
    "removebow=rarebow.union(mostfreqbow)\n",
    "len(removebow)"
   ]
  },
  {
   "cell_type": "code",
   "execution_count": 57,
   "metadata": {},
   "outputs": [],
   "source": [
    "data['textc']=data['textc'].apply(lambda x: \" \".join([i for i in x.split() if i not in removebow]))"
   ]
  },
  {
   "cell_type": "code",
   "execution_count": 131,
   "metadata": {},
   "outputs": [
    {
     "name": "stdout",
     "output_type": "stream",
     "text": [
      "5085\n"
     ]
    }
   ],
   "source": [
    "#Bag of  words\n",
    "worddic=collections.Counter() \n",
    "for i in data['textc']: #each line\n",
    "    #for j in i:  #i is a (token) list;  #each word; \n",
    "    for j in i.split(): #i is a paragraph; \n",
    "        worddic[j]+=1\n",
    "        \n",
    "print(len(worddic)) #30220 ->7445 after removal of rare+mostfreq bow ->5085 after removal of few doc occurance & noun; "
   ]
  },
  {
   "cell_type": "code",
   "execution_count": 75,
   "metadata": {
    "scrolled": true
   },
   "outputs": [],
   "source": [
    "#words document occurancy \n",
    "docfreq=collections.Counter() \n",
    "for i in data['textc']:\n",
    "    for j in set(i.split()):\n",
    "        docfreq[j]+=1"
   ]
  },
  {
   "cell_type": "code",
   "execution_count": 76,
   "metadata": {},
   "outputs": [
    {
     "data": {
      "text/html": [
       "<div>\n",
       "<style>\n",
       "    .dataframe thead tr:only-child th {\n",
       "        text-align: right;\n",
       "    }\n",
       "\n",
       "    .dataframe thead th {\n",
       "        text-align: left;\n",
       "    }\n",
       "\n",
       "    .dataframe tbody tr th {\n",
       "        vertical-align: top;\n",
       "    }\n",
       "</style>\n",
       "<table border=\"1\" class=\"dataframe\">\n",
       "  <thead>\n",
       "    <tr style=\"text-align: right;\">\n",
       "      <th></th>\n",
       "      <th>0</th>\n",
       "    </tr>\n",
       "  </thead>\n",
       "  <tbody>\n",
       "    <tr>\n",
       "      <th>count</th>\n",
       "      <td>7445.000000</td>\n",
       "    </tr>\n",
       "    <tr>\n",
       "      <th>mean</th>\n",
       "      <td>61.359704</td>\n",
       "    </tr>\n",
       "    <tr>\n",
       "      <th>std</th>\n",
       "      <td>200.953853</td>\n",
       "    </tr>\n",
       "    <tr>\n",
       "      <th>min</th>\n",
       "      <td>1.000000</td>\n",
       "    </tr>\n",
       "    <tr>\n",
       "      <th>1%</th>\n",
       "      <td>3.000000</td>\n",
       "    </tr>\n",
       "    <tr>\n",
       "      <th>5%</th>\n",
       "      <td>4.000000</td>\n",
       "    </tr>\n",
       "    <tr>\n",
       "      <th>10%</th>\n",
       "      <td>5.000000</td>\n",
       "    </tr>\n",
       "    <tr>\n",
       "      <th>25%</th>\n",
       "      <td>7.000000</td>\n",
       "    </tr>\n",
       "    <tr>\n",
       "      <th>50%</th>\n",
       "      <td>13.000000</td>\n",
       "    </tr>\n",
       "    <tr>\n",
       "      <th>60%</th>\n",
       "      <td>18.000000</td>\n",
       "    </tr>\n",
       "    <tr>\n",
       "      <th>75%</th>\n",
       "      <td>38.000000</td>\n",
       "    </tr>\n",
       "    <tr>\n",
       "      <th>90%</th>\n",
       "      <td>129.000000</td>\n",
       "    </tr>\n",
       "    <tr>\n",
       "      <th>95%</th>\n",
       "      <td>270.600000</td>\n",
       "    </tr>\n",
       "    <tr>\n",
       "      <th>99%</th>\n",
       "      <td>751.000000</td>\n",
       "    </tr>\n",
       "    <tr>\n",
       "      <th>100%</th>\n",
       "      <td>5510.000000</td>\n",
       "    </tr>\n",
       "    <tr>\n",
       "      <th>max</th>\n",
       "      <td>5510.000000</td>\n",
       "    </tr>\n",
       "  </tbody>\n",
       "</table>\n",
       "</div>"
      ],
      "text/plain": [
       "                 0\n",
       "count  7445.000000\n",
       "mean     61.359704\n",
       "std     200.953853\n",
       "min       1.000000\n",
       "1%        3.000000\n",
       "5%        4.000000\n",
       "10%       5.000000\n",
       "25%       7.000000\n",
       "50%      13.000000\n",
       "60%      18.000000\n",
       "75%      38.000000\n",
       "90%     129.000000\n",
       "95%     270.600000\n",
       "99%     751.000000\n",
       "100%   5510.000000\n",
       "max    5510.000000"
      ]
     },
     "execution_count": 76,
     "metadata": {},
     "output_type": "execute_result"
    }
   ],
   "source": [
    "pd.DataFrame(sorted(docfreq.values(), reverse=True)).describe(percentiles=[0.01, 0.05, 0.10, 0.25, 0.5, 0.6, 0.75, 0.9, \n",
    "                                                                             0.95, 0.99, 1])"
   ]
  },
  {
   "cell_type": "code",
   "execution_count": 99,
   "metadata": {},
   "outputs": [
    {
     "name": "stdout",
     "output_type": "stream",
     "text": [
      "['griddle', 'grip', 'fence', 'whisper', 'foccacia', 'quiessence', 'perch', 'wimp', 'sur', 'condesa', 'nobuo', 'snickerdoodle', 'whos', 'communication', 'jet', 'oldie', 'bastard', 'tang', 'dean', 'dawn', 'rep', 'drift', 'mimis', 'brake', 'dealer', 'cocktails', 'disclaimer', 'walkins', 'inspect', 'perimeter', 'elect', 'morton', 'gristle', 'carbs', 'hover', 'necessity', 'peppermint', 'hound', 'chicagostyle', 'grayhawk', 'france', 'device', 'pine', 'wad', 'war', 'growler', 'jug', 'furthermore', 'conveyor', 'cliff', 'refrigerate', 'imax', 'slope', 'auditorium', 'throat', 'caroline', 'harm', 'fixins', 'fraiche', 'cub', 'carrier', 'foul', 'gravlax', 'dolce', 'hazelnut', 'kindness', 'audition', 'bevmo', 'strongbow', 'maizies', 'jon', 'carbonara', 'jesus', 'christ', 'invitation', 'herei', 'whore', 'incentive', 'beater', 'brioche', 'philadelphia', 'indulgence', 'wifey', 'rokerij', 'modification', 'movement', 'semester', 'ditto', 'apache', 'hardwood', 'transform', 'shack', 'integrity', 'wrist', 'clubhouse', 'luggage', 'inhouse', 'foam', 'corona', 'cks', 'coors', 'upcharge', 'memorabilia', 'charlies', 'celebrity', 'tlc', 'flair', 'valentine', 'coup', 'guard', 'betray', 'recognition', 'flagship', 'chalk', 'encore', 'crumbles', 'sack', 'seller', 'bush', 'madness', 'boa', 'brad', 'madonna', 'gainey', 'hyatt', 'carafe', 'alligator', 'distraction', 'aiellos', 'entice', 'marg', 'carton', 'portobello', 'florist', 'tidy', 'choke', 'menudo', 'pawn', 'bullet', 'trunk', 'pedal', 'hawaii', 'maui', 'rumbi', 'charcoal', 'arrest', 'baggage', 'quart', 'gasp', 'clueless', 'difficulty', 'responsibility', 'itch', 'distress', 'zip', 'plague', 'provider', 'sneeze', 'glitch', 'approx', 'busier', 'molinos', 'dos', 'alarm', 'quail', 'vino', 'cue', 'lash', 'fade', 'brow', 'haddock', 'zach', 'warmly', 'bros', 'carolina', 'insert', 'wildlife', 'novel', 'barnes', 'stoke', 'casey', 'hippie', 'photograph', 'fax', 'critter', 'crop', 'gils', 'marriage', 'faith', 'tjs', 'richness', 'lager', 'jerry', 'spy', 'pharmacy', 'journey', 'scare', 'validation', 'liqueur', 'bailey', 'climate', 'cosmo', 'sephora', 'lip', 'perfume', 'plump', 'chimichangas', 'blare', 'dryer', 'boost', 'chilies', 'cringe', 'tranquil', 'statue', 'dedicate', 'monstrosity', 'clock', 'plaster', 'testament', 'tickle', 'allyoucaneat', 'elvis', 'bevy', 'summit', 'mrs', 'maximum', 'mgr', 'turf', 'shepherd', 'folks', 'vics', 'ao', 'hana', 'faculty', 'experiment', 'task', 'survival', 'percent', 'grinder', 'define', 'speakeasy', 'macalpines', 'blade', 'loin', 'wireless', 'bashas', 'grocer', 'lieu', 'merc', 'kazimierz', 'sauerkraut', 'thaw', 'cadillac', 'standouts', 'tablemate', 'surcharge', 'odor', 'hospitality', 'rag', 'breakfastbrunch', 'cristo', 'hoo', 'woo', 'msg', 'gelatos', 'recession', 'spinatos', 'calzones', 'haus', 'audio', 'pupusa', 'actor', 'hardcore', 'pupusas', 'smith', 'dbg', 'wallpaper', 'drain', 'congrats', 'piercings', 'pierce', 'development', 'bitterness', 'dreamy', 'mechanic', 'mlb', 'nba', 'context', 'bathtub', 'cob', 'standout', 'rama', 'chuckle', 'som', 'gusto', 'jasmine', 'ballet', 'nutcracker', 'scowl', 'atleast', 'bro', 'crinkle', 'gummy', 'aftertaste', 'sacrifice', 'forgo', 'heed', 'clever', 'hiphop', 'skew', 'june', 'monitor', 'motivate', 'genre', 'format', 'fresca', 'endeavor', 'infusion', 'frittata', 'chalkboard', 'broadway', 'taker', 'matts', 'tipsy', 'vas', 'thier', 'anywho', 'lottery', 'rowdy', 'hunter', 'ache', 'slot', 'bolt', 'span', 'finer', 'havarti', 'medal', 'examine', 'tejas', 'utmost', 'pros', 'wok', 'banner', 'stix', 'growl', 'claw', 'legs', 'boys', 'supervisor', 'po', 'clump', 'mins', 'checking', 'wiener', 'sandbar', 'amy', 'puck', 'comedy', 'yall', 'laredo', 'behalf', 'retreat', 'flee', 'victoria', 'boulder', 'lure', 'sidebar', 'hotspot', 'meld', 'austin', 'sweater', 'foster', 'orleans', 'feelin', 'enthusiasm', 'sarah', 'showing', 'reschedule', 'landscape', 'packet', 'confidence', 'gauge', 'macadamia', 'dehydrate', 'orzo', 'ritas', 'permit', 'pat', 'brim', 'veggies', 'formula', 'palmer', 'telephone', 'therapy', 'professionalism', 'artery', 'quirky', 'hannys', 'bruscetta', 'manhattan', 'restore', 'cabinet', 'crème', 'scottsdales', 'deter', 'qt', 'vest', 'plantation', 'spider', 'fedex', 'mani', 'hunk', 'stereo', 'sautéed', 'doggie', 'degrees', 'wtih', 'hung', 'shortage', 'overrate', 'furry', 'net', 'blvd', 'monroe', 'hug', 'rancheros', 'sandwhiches', 'batman', 'grate', 'possess', 'tina', 'excellence', 'heal', 'scorch', 'obscure', 'instore', 'portabella', 'tomatoes', 'bibimbap', 'audience', 'granite', 'install', 'insight', 'accustom', 'chickpea', 'humus', 'hob', 'roti', 'bombay', 'thinner', 'noodles', 'octopus', 'bra', 'wongs', 'glare', 'cola', 'departure', 'dye', 'lovin', 'daddy', 'creature', 'deer', 'agreement', 'revisit', 'nordstroms', 'luncheon', 'nutrition', 'click', 'chart', 'kim', 'soba', 'roscoes', 'regulars', 'cinema', 'minnie', 'doughnut', 'osso', 'bucco', 'sliver', 'paneer', 'chino', 'bandido', 'pepsi', 'outlet', 'behold', 'subscription', 'netflix', 'crackle', 'cabana', 'champ', 'opera', 'aunty', 'scheme', 'randy', 'patronage', 'tamarind', 'bollywood', 'advertising', 'ancient', 'yearn', 'travelzoo', 'bridal', 'montelucia', 'awareness', 'collar', 'tumble', 'mislead', 'portabello', 'restaurantbar', 'inquire', 'shallot', 'mei', 'resource', 'flyer', 'horrify', 'lucia', 'barcelona', 'spain', 'paycheck', 'miracle', 'laura', 'user', 'hustle', 'ensue', 'fairmont', 'wound', 'distant', 'habanero', 'jj', 'somethin', 'converse', 'kimpton', 'bocce', 'pimp', 'professor', 'semi', 'bridge', 'transition', 'lecture', 'dorm', 'mate', 'employer', 'freshman', 'contractor', 'thereof', 'espn', 'nectar', 'brussels', 'evidence', 'verse', 'redo', 'tournament', 'jacuzzi', 'appoint', 'princess', 'nuts', 'remake', 'schreiners', 'cutter', 'se', 'vicinity', 'highquality', 'tastiness', 'yuphas', 'litter', 'tendency', 'hm', 'patrick', 'marinade', 'outoftowners', 'agua', 'ea', 'amidst', 'tritip', 'todays', 'publication', 'korma', 'witness', 'vindaloo', 'tikki', 'mode', 'tiki', 'interpretation', 'cheek', 'theory', 'vice', 'sneaker', 'julia', 'marcellino', 'mouse', 'hormone', 'diehard', 'volcano', 'icecream', 'mochi', 'sedona', 'sail', 'soi', 'arribas', 'gang', 'registry', 'neimans', 'housewares', 'ceremony', 'mingle', 'fresher', 'midcentury', 'generation', 'dulce', 'meager', 'unsure', 'gag', 'multitude', 'engine', 'steaks', 'mu', 'itand', 'frat', 'wonderfulness', 'frys', 'sunrise', 'fiancee', 'rider', 'mariachi', 'smoker', 'drab', 'depot', 'whine', 'population', 'piestewa', 'controversy', 'rename', 'marquee', 'goi', 'morsel', 'ne', 'curb', 'denver', 'pancit', 'breadstick', 'broccolini', 'sodas', 'harmony', 'album', 'antipasti', 'alla', 'puttanesca', 'asset', 'misto', 'sparkle', 'quieter', 'culvers', 'remembers', 'tres', 'compassionate', 'bee', 'anchor', 'jr', 'pitch', 'nuff', 'president', 'rosatis', 'yorker', 'shelter', 'carolinas', 'cholesterol', 'medication', 'diamondback', 'colossal', 'nowadays', 'dammit', 'buddha', 'mar', 'horror', 'indie', 'hollywood', 'blockbuster', 'payment', 'schnitzel', 'capture', 'tent', 'daunt', 'odds', 'dent', 'aluminum', 'painless', 'whod', 'haul', 'compensate', 'playground', 'suburban', 'amazon', 'sears', 'shu', 'butternut', 'bind', 'midst', 'mishap', 'correction', 'noone', 'socialize', 'spouse', 'jambalaya', 'quicker', 'filter', 'fuel', 'teenage', 'westgate', 'sterile', 'glassware', 'whoop', 'vein', 'priority', 'canasta', 'brine', 'curve', 'backwards', 'parfait', 'thirty', 'oakland', 'doc', 'bachelorette', 'macaroon', 'avacado', 'rubber', 'indecisive', 'warmer', 'flawless', 'cutesy', 'bff', 'ed', 'gravel', 'memorize', 'hannah', 'midday', 'pajama', 'motorcycle', 'sunnyslope', 'fume', 'gaze', 'lotion', 'existence', 'cuticle', 'selling', 'clip', 'shipment', 'pavle', 'fnb', 'fund', 'rei', 'hula', 'reminder', 'removal', 'laser', 'kit', 'hiker', 'bikers', 'baker', 'toffee', 'cupcakes', 'household', 'foothill', 'sentence', 'tum', 'hoot', 'mob', 'possibility', 'roam', 'debris', 'indifferent', 'substitution', 'caveat', 'battle', 'shipping', 'lemony', 'yuppie', 'hella', 'tablespoon', 'supreme', 'cpk', 'moody', 'crime', 'chaos', 'carpaccio', 'farmhouse', 'waft', 'techno', 'beau', 'lemongrass', 'adjustment', 'classroom', 'introduction', 'dd', 'billiards', 'sodium', 'smashfries', 'bulb', 'hotter', 'estimate', 'phoenixscottsdale', 'pc', 'nugget', 'kraft', 'coating', 'chambord', 'tiffany', 'shuffleboard', 'ipad', 'coliseum', 'barbacoa', 'pizzaria', 'sandal', 'riesling', 'malbec', 'mo', 'myst', 'gouge', 'vomit', 'nw', 'validate', 'cigar', 'vinyl', 'bottomless', 'pa', 'checker', 'yam', 'grigio', 'trumpet', 'component', 'com', 'sriracha', 'tam', 'mam', 'squirt', 'ringo', 'witty', 'tame', 'covet', 'clothe', 'profit', 'demo', 'backup', 'karshs', 'curt', 'chelseas', 'meaning', 'rancid', 'hue', 'yumminess', 'flare', 'goof', 'bumper', 'ziti', 'dbacks', 'verify', 'baklava', 'kama', 'limitation', 'johnson', 'fate', 'pencil', 'pottery', 'carbon', 'peas', 'formation', 'daylight', 'mormon', 'pp', 'sunglass', 'flop', 'chest', 'reunion', 'veer', 'hobby', 'frickin', 'rio', 'chianti', 'hum', 'europe', 'director', 'ka', 'scope', 'capri', 'chickfila', 'brio', 'abundance', 'dc', 'flos', 'kilt', 'clarify', 'admire', 'dicey', 'hog', 'awsome', 'nails', 'gill', 'marketing', 'wink', 'crisis', 'ohhh', 'overdone', 'flagstaff', 'familyrun', 'lavender', 'rom', 'vain', 'meatless', 'pattern', 'cancer', 'mabels', 'marsala', 'tiger', 'depress', 'milano', 'crudo', 'fryer', 'lava', 'fresco', 'philosophy', 'breaker', 'mare', 'imitation', 'darker', 'emerald', 'guilt', 'peter', 'pier', 'buckeye', 'compromise', 'boss', 'mount', 'hero', 'inspection', 'gamble', 'hooray', 'deposit', 'wagyu', 'beignet', 'elite', 'reiterate', 'obsess', 'lease', 'birdie', 'marshall', 'putt', 'saint', 'jamba', 'acai', 'pretension', 'hideaway', 'bocca', 'sorority', 'anyones', 'download', 'transaction', 'dannys', 'promotion', 'honda', 'jeep', 'precede', 'spongy', 'tribute', 'fantasy', 'sapporo', 'softshell', 'chomp', 'gum', 'taro', 'supplement', 'position', 'bunker', 'elevation', 'straightforward', 'pin', 'amateur', 'hater', 'douche', 'cheesesteaks', 'lineup', 'canada', 'overshadow', 'saguaro', 'wright', 'lloyd', 'childcare', 'snicker', 'hyde', 'enchant', 'plasma', 'hesitation', 'beefy', 'sculpture', 'willo', 'planner', 'defalcos', 'beppo', 'buca', 'ski', 'romance', 'absent', 'distinction', 'tsos', 'applewood', 'cher', 'camper', 'georgia', 'fiancé', 'deduct', 'rnr', 'mucho', 'satiate', 'void', 'impact', 'pcg', 'xmas', 'afterall', 'restaurants', 'lolos', 'namesake', 'cliche', 'inject', 'hoppin', 'pane', 'executive', 'carryout', 'runway', 'lons', 'pinnacle', 'happiness', 'artsy', 'mmmmmmm', 'cooper', 'warner', 'rob', 'doll', 'arch', 're', 'adobe', 'tolerance', 'trailer', 'boxing', 'veteran', 'miner', 'trace', 'production', 'cage', 'instruct', 'flick', 'lisa', 'porch', 'supplier', 'mcclintock', 'geisha', 'brewpub', 'mozarella', 'clove', 'kalamata', 'picazzos', 'cranky', 'motivation', 'ft', 'army', 'choc', 'douse', 'familiarity', 'jones', 'ribbon', 'ahh', 'rico', 'tenderness', 'anthony', 'borrow', 'piper', 'seperate', 'liz', 'billing', 'volleyball', 'harlow', 'curiosity', 'cluster', 'juke', 'treadmill', 'availability', 'designate', 'maneuver', 'reyes', 'medallion', 'funk', 'mexicali', 'queue', 'strategy', 'forearm', 'biz', 'hoard', 'tgi', 'belief', 'times', 'justice', 'inability', 'ariel', 'tracy', 'ck', 'lox', 'expansion', 'prize', 'biancos', 'goodand', 'despise', 'bicycle', 'avid', 'willow', 'importance', 'intensity', 'reduction', 'slack', 'carve', 'krispy', 'kreme', 'conscience', 'collard', 'duce', 'recliner', 'tantalize', 'renaissance', 'era', 'symbol', 'century', 'fulfill', 'concierge', 'engagement', 'caribbean', 'institution', 'kisra', 'cement', 'invest', 'oleander', 'pappadeaux', 'crema', 'camarones', 'investigate', 'sa', 'shanghai', 'visa', 'tortas', 'robertos', 'transit', 'cc', 'brewer', 'dropout', 'ngd', 'pilsner', 'flock', 'bruise', 'snowbird', 'concourse', 'chilaquiles', 'james', 'profile', 'disclosure', 'breadfruit', 'chefowner', 'potatoe', 'advocate', 'duke', 'efficiency', 'chocolatey', 'witch', 'conflict', 'taxi', 'housekeep', 'fuddruckers', 'munchies', 'vulture', 'familys', 'sage', 'manipedi', 'martinis', 'sweeter', 'society', 'humane', 'harley', 'paw', 'fluff', 'showcase', 'golfer', 'icy', 'silky', 'washington', 'sufficient', 'makeover', 'zin', 'compote', 'allot', 'eatin', 'nom', 'hillstone', 'mandatory', 'commute', 'rigatoni', 'divey', 'dodge', 'crayon', 'attendee', 'bam', 'brent', 'marker', 'blaze', 'ponder', 'skyline', 'pause', 'hitch', 'chit', 'beast', 'harissa', 'fiery', 'murphy', 'deb', 'aa', 'angela', 'oldschool', 'ross', 'tissue', 'karen', 'argument', 'michigan', 'lolas', 'kristi', 'lifter', 'miniature', 'shampoo', 'robe', 'seedy', 'ash', 'heather', 'stickler', 'taqueria', 'rivas', 'tortillas', 'carefree', 'income', 'lend', 'wth', 'verge', 'stake', 'swap', 'resolve', 'carls', 'wire', 'gabi', 'nickel', 'berthas', 'mex', 'bmw', 'interact', 'chiladas', 'inc', 'hefeweizen', 'watermelon', 'interview', 'simplicity', 'robin', 'usage', 'imagination', 'sweaty', 'circumstance', 'iffy', 'peoria', 'havana', 'retailer', 'prescription', 'brussel', 'housemade', 'yukon', 'crouton', 'creole', 'mecca', 'smeeks', 'stateside', 'ass', 'buffett', 'diggity', 'status', 'bahama', 'rockin', 'guys', 'frills', 'taylor', 'teppanyaki', 'input', 'consult', 'masseuse', 'sprint', 'superbowl', 'majerles', 'literature', 'criticism', 'proscuitto', 'tape', 'crate', 'mj', 'java', 'biagio', 'sleeper', 'lotus', 'relocate', 'teppan', 'kyoto', 'homework', 'puzzle', 'stinky', 'earl', 'libation', 'caviar', 'mattress', 'headache', 'mover', 'pointe', 'slather', 'motion', 'customize', 'sweep', 'mop', 'strand', 'felipes', 'tangerine', 'cotta', 'imply', 'fridays', 'cleanfreak', 'recipt', 'monsoon', 'freshener', 'graham', 'transportation', 'granddaughter', 'microbrews', 'curl', 'jotc', 'salesman', 'quench', 'ambrosia', 'wider', 'expression', 'sht', 'easter', 'samosa', 'estrella', 'merit', 'intent', 'playoff', 'cricket', 'web', 'dilemma', 'boombozz', 'teal', 'rarity', 'kitchenette', 'smiley', 'anglaise', 'panna', 'coaster', 'jello', 'poop', 'caters', 'foo', 'sissy', 'weakness', 'gorge', 'downtoearth', 'christopher', 'circa', 'ticoz', 'dumpster', 'conditioner', 'thermostat', 'bbb', 'totts', 'heirloom', 'tammie', 'bomberos', 'yasus', 'hamachi', 'parmigiano', 'reggiano', 'asado', 'confess', 'att', 'dug', 'roka', 'habenero', 'refreshment', 'shovel', 'challah', 'windows', 'nc', 'restaraunt', 'ritz', 'popper', 'groomer', 'sara', 'wag', 'sox', 'silk', 'lion', 'consignment', 'miller', 'wigwam', 'saigon', 'injure', 'poker', 'expiration', 'purist', 'motor', 'supporter', 'duplicate', 'calendar', 'abandon', 'suffice', 'commission', 'driveins', 'grille', 'downer', 'corporation', 'dillards', 'deduction', 'puddle', 'zia', 'forefather', 'chestnut', 'taint', 'rhythm', 'hollandaise', 'christine', 'tint', 'imho', 'parsley', 'julie', 'clutter', 'craziness', 'coverage', 'violation', 'dolmas', 'territory', 'expire', 'prob', 'hanger', 'engineering', 'kebab', 'rula', 'medley', 'firecracker', 'guiness', 'bikini', 'cleanser', 'sarcasm', 'redemption', 'casserole', 'windsor', 'dodger', 'incorrect', 'bjs', 'asap', 'nutshell', 'hd', 'standby', 'surgeon', 'ladies', 'babysitter', 'trivia', 'bula', 'instrument', 'tukee', 'zillion', 'poboy', 'petco', 'zoyo', 'ordeal', 'loader', 'carlys', 'meter', 'lightrail', 'chock', 'chowder', 'dab', 'hooter', 'muffins', 'downgrade', 'walgreens', 'beneath', 'walkin', 'baffle', 'panty', 'wiseguy', 'churn', 'goddamn', 'mayonnaise', 'bleed', 'moo', 'grin', 'grazie', 'danielle', 'jalapenos', 'trophy', 'mature', 'portland', 'dealership', 'tweet', 'battery', 'assessment', 'parade', 'explosion', 'gordon', 'radar', 'tweak', 'bleh', 'port', 'geek', 'restock', 'electronics', 'atrium', 'sofa', 'caterpillar', 'survey', 'tonys', 'binkleys', 'seam', 'ajo', 'peppery', 'durant', 'fuse', 'kirin', 'stitch', 'jeweler', 'westside', 'mediumwell', 'chalet', 'scuba', 'capriottis', 'sauvignon', 'butterscotch', 'heritage', 'hefe', 'tendon', 'wisdom', 'toro', 'hiro', 'sheriff', 'ganache', 'banger', 'coe', 'maria', 'bravo', 'flautas', 'baiz', 'ganoush', 'fiction', 'desserts', 'turnover', 'zuzu', 'essence', 'role', 'refine', 'popeyes', 'breed', 'yogurtology', 'bison', 'dmv', 'selfservice', 'envelope', 'bonnie', 'soupy', 'spoton', 'petes', 'envision', 'fame', 'praline', 'infection', 'porterhouse', 'wreck', 'santan', 'cochinita', 'brewing', 'criterion', 'paul', 'chevys', 'bypass', 'valle', 'harass', 'ignite', 'rudys', 'outback', 'marco', 'maam', 'sombrero', 'england', 'chatty', 'yung', 'submit', 'meringue', 'saturate', 'kennel', 'lucilles', 'superstar', 'jodi', 'drama', 'barrier', 'silence', 'shawn', 'coronado', 'packaging', 'jenny', 'poach', 'invent', 'chu', 'vegas', 'ricos', 'rage', 'yucky', 'writer', 'duo', 'waterfront', 'attire', 'alter', 'smallish', 'lens', 'charleston', 'trinket', 'hygienist', 'bfast', 'manger', 'villa', 'gush', 'stem', 'aficionado', 'resume', 'runofthemill', 'punk', 'gaga', 'sweetie', 'shasta', 'ma', 'tt', 'menus', 'huckleberry', 'vent', 'chatter', 'bloom', 'token', 'bulgogi', 'saki', 'storm', 'burritos', 'pinto', 'leah', 'dynamite', 'yumm', 'shepard', 'bladder', 'lace', 'announce', 'pray', 'sisterinlaw', 'tim', 'sopapillas', 'hurricane', 'immigrant', 'manuels', 'gesture', 'richard', 'obligatory', 'cruz', 'garner', 'towne', 'opener', 'adjoin', 'fixture', 'salesperson', 'boca', 'cruise', 'cobbler', 'filler', 'phrase', 'tommy', 'churro', 'banh', 'stash', 'andrea', 'strain', 'mince', 'herbs', 'bellini', 'doodle', 'benson', 'lawyer', 'cycle', 'moreover', 'bb', 'gulp', 'churros', 'daniel', 'saffron', 'handwritten', 'infant', 'fogo', 'fraction', 'radiator', 'portillos', 'ramada', 'goodcents', 'inconvenient', 'jay', 'oxtail', 'zinfandel', 'jobingcom', 'disco', 'thanh', 'softball', 'trauma', 'kosher', 'investment', 'chiptole', 'contemplate', 'inspiration', 'kalbi', 'cable', 'overstuff', 'vanity', 'sway', 'consultation', 'atlanta', 'maricopa', 'ripoff', 'fart', 'suede', 'teeter', 'disease', 'marcus', 'macbook', 'habaneros', 'specification', 'understood', 'mba', 'patch', 'ballroom', 'prix', 'fixe', 'germany', 'diaper', 'payton', 'devoid', 'chuckbox', 'inconsistency', 'union', 'pearl', 'rinse', 'flaw', 'rachel', 'raj', 'appliance', 'jakes', 'coop', 'rey', 'specials', 'remainder', 'cooperstown', 'cannolis', 'minimalist', 'tripe', 'intoxicate', 'clarendon', 'tx', 'lab', 'andre', 'prepay', 'cholla', 'installation', 'turd', 'ppl', 'asus', 'snarky', 'moscato', 'melon', 'placard', 'flimsy', 'officer', 'whilst', 'paperwork', 'vermont', 'relay', 'eggroll', 'szechuan', 'croque', 'dillys', 'roxie', 'cha', 'authority', 'fluid', 'mozz', 'demise', 'modify', 'zinc', 'scissors', 'goo', 'failure', 'confection', 'edgy', 'towner', 'drybar', 'clarice', 'brandy', 'bodos', 'phil', 'topless', 'gspot', 'sop', 'luster', 'yen', 'convey', 'laidback', 'aerobics', 'cease', 'triangle', 'pyramid', 'honeymoon', 'extension', 'michelin', 'albertsons', 'recycle', 'comply', 'beam', 'mainstream', 'healthcare', 'tatum', 'blouse', 'personnel', 'bgf', 'tenant', 'throwback', 'bruce', 'seabass', 'horrific', 'luis', 'wellness', 'yolis', 'chashu', 'accomplishment', 'festivity', 'waikiki', 'glitter', 'dresser', 'stainless', 'carlsbad', 'rocker', 'tar', 'crostini', 'marie', 'barneys', 'cabelas', 'hoan', 'tango', 'charlie', 'linguine', 'rangoon', 'flute', 'arepas', 'ladder', 'tryst', 'injury', 'marshal', 'demonstrate', 'biancoverde', 'alternate', 'plank', 'yakisoba', 'romano', 'drank', 'glutton', 'nuoc', 'doom', 'spendy', 'wes', 'fluorescent', 'kiwi', 'excursion', 'coolness', 'greatthe', 'bouche', 'roach', 'chico', 'wand', 'maze', 'larry', 'rang', 'sensor', 'jobot', 'moisturizer', 'allure', 'shadow', 'paleta', 'hansons', 'carla', 'distrito', 'anise', 'behave', 'rds', 'orig', 'cleanup', 'spencer', 'contraption', 'discontinue', 'mag', 'watt', 'tweakers', 'reside', 'poboys', 'holler', 'seville', 'beckett', 'staffperson', 'freddys', 'mma', 'taberna', 'zgrill', 'ebi']\n",
      "1924\n",
      "3249\n"
     ]
    }
   ],
   "source": [
    "a=[k for k, v in docfreq.items() if v<11]\n",
    "b=nltk.pos_tag(docfreq.keys())\n",
    "c=set([i[1] for i in b]) #list of tags; \n",
    "#d=[i[0] for i in b] #list of words;\n",
    "x=[i[0] for i in b if i[1].startswith('N') and i[0] in a]\n",
    "print(x)"
   ]
  },
  {
   "cell_type": "code",
   "execution_count": 110,
   "metadata": {},
   "outputs": [
    {
     "name": "stdout",
     "output_type": "stream",
     "text": [
      "% of Nouns for document freqency betwn 1 and 10 is: 0.5921822099107418\n",
      "% of Nouns for document freqency betwn 11 and 100 is: 0.5897358032189493\n",
      "% of Nouns for document freqency betwn 101 and 200 is: 0.5245098039215687\n",
      "% of Nouns for document freqency betwn 201 and 300 is: 0.5095541401273885\n",
      "% of Nouns for document freqency betwn 301 and 400 is: 0.47959183673469385\n",
      "% of Nouns for document freqency betwn 401 and 6000 is: 0.38333333333333336\n"
     ]
    }
   ],
   "source": [
    "#side checks; \n",
    "ranges=[(1, 10), (11, 100), (101, 200), (201, 300), (301, 400), (401, 6000)]\n",
    "for r in ranges:\n",
    "    low=r[0]\n",
    "    high=r[1]\n",
    "\n",
    "    a=[k for k, v in docfreq.items() if low<=v<=high]\n",
    "    b=nltk.pos_tag(docfreq.keys())\n",
    "    x=[i[0] for i in b if i[1].startswith('N') and i[0] in a]\n",
    "    print('% of Nouns for document freqency betwn {} and {} is: {}'.format(low, high, len(x)/len(a)))"
   ]
  },
  {
   "cell_type": "code",
   "execution_count": 124,
   "metadata": {},
   "outputs": [
    {
     "name": "stdout",
     "output_type": "stream",
     "text": [
      "2360\n"
     ]
    }
   ],
   "source": [
    "a=[k for k, v in docfreq.items() if v<15]\n",
    "b=nltk.pos_tag(docfreq.keys())\n",
    "raredocbow={i[0] for i in b if i[1].startswith('N') and i[0] in a}  #*************to use for later removal*************;\n",
    "print(len(raredocbow))\n",
    "#print(raredocbow)  #can be removed; "
   ]
  },
  {
   "cell_type": "code",
   "execution_count": 132,
   "metadata": {},
   "outputs": [
    {
     "name": "stdout",
     "output_type": "stream",
     "text": [
      "139\n",
      "{'stand', 'tomato', 'recommend', 'girl', 'keep', 'decor', 'youre', 'cream', 'fact', 'house', 'option', 'part', 'surprise', 'help', 'breakfast', 'music', 'appetizer', 'anything', 'meat', 'steak', 'person', 'lot', 'roll', 'deal', 'quality', 'glass', 'star', 'plate', 'style', 'wouldnt', 'ill', 'point', 'isnt', 'reason', 'rice', 'phoenix', 'dinner', 'item', 'chocolate', 'soup', 'park', 'owner', 'cook', 'return', 'wont', 'spot', 'sandwich', 'play', 'check', 'pm', 'customer', 'portion', 'cheese', 'bring', 'line', 'hand', 'job', 'guy', 'home', 'egg', 'week', 'warm', 'coffee', 'sweet', 'husband', 'pork', 'store', 'fun', 'nothing', 'name', 'problem', 'decide', 'shop', 'pick', 'someone', 'love', 'couple', 'didnt', 'town', 'cant', 'watch', 'show', 'yes', 'selection', 'taste', 'grill', 'couldnt', 'everyone', 'yummy', 'disappoint', 'thats', 'dont', 'today', 'bite', 'guess', 'head', 'patio', 'door', 'change', 'wasnt', 'half', 'group', 'course', 'street', 'choice', 'share', 'id', 'onion', 'list', 'waitress', 'move', 'room', 'water', 'family', 'month', 'drive', 'money', 'care', 'mean', 'kind', 'talk', 'fry', 'pretty', 'everything', 'weekend', 'size', 'pay', 'chip', 'veggie', 'business', 'kid', 'oh', 'potato', 'call', 'stop', 'bread', 'spicy', 'fan', 'beef'}\n"
     ]
    }
   ],
   "source": [
    "a=[k for k, v in docfreq.items() if v>300]\n",
    "b=nltk.pos_tag(docfreq.keys())\n",
    "freqdocbow={i[0] for i in b if i[1].startswith('N') and i[0] in a}\n",
    "print(len(freqdocbow))\n",
    "print(freqdocbow)  #all make sense, keep them!"
   ]
  },
  {
   "cell_type": "code",
   "execution_count": 130,
   "metadata": {
    "collapsed": true
   },
   "outputs": [],
   "source": [
    "data['textc']=data['textc'].apply(lambda x: \" \".join([i for i in x.split() if i not in raredocbow])) #all 5085 bow now; "
   ]
  },
  {
   "cell_type": "code",
   "execution_count": 135,
   "metadata": {
    "collapsed": true
   },
   "outputs": [],
   "source": [
    "data['text_len']=data['textc'].apply(len)"
   ]
  },
  {
   "cell_type": "code",
   "execution_count": 137,
   "metadata": {},
   "outputs": [
    {
     "name": "stderr",
     "output_type": "stream",
     "text": [
      "C:\\Users\\Yunsun2\\Anaconda\\lib\\site-packages\\sklearn\\cross_validation.py:41: DeprecationWarning: This module was deprecated in version 0.18 in favor of the model_selection module into which all the refactored classes and functions are moved. Also note that the interface of the new CV iterators are different from that of this module. This module will be removed in 0.20.\n",
      "  \"This module will be removed in 0.20.\", DeprecationWarning)\n"
     ]
    }
   ],
   "source": [
    "from sklearn.cross_validation import train_test_split\n",
    "from sklearn.metrics import classification_report, confusion_matrix, accuracy_score\n",
    "from sklearn.naive_bayes import MultinomialNB\n",
    "from sklearn.pipeline import Pipeline\n",
    "from sklearn.feature_extraction.text import TfidfVectorizer, CountVectorizer\n",
    "\n",
    "Z=data.drop('textc', axis=1)\n",
    "X=data['textc'] #will add other features back later on for another analysis;   \n",
    "\n",
    "rs=9876\n",
    "x_train, x_test, ztrain, ztest = train_test_split(X, Z, test_size=0.3, random_state=rs) \n",
    "\n",
    "#TfidfVectorizer\n",
    "tfidfv=TfidfVectorizer(min_df=2, ngram_range=(1, 1), stop_words='english', max_features=10000, strip_accents='unicode', \n",
    "                           norm='l2')\n",
    "xtrain=tfidfv.fit_transform(x_train).todense()\n",
    "xtest=tfidfv.transform(x_test).todense()\n",
    "col = ['feat_'+i for i in tfidfv.get_feature_names()]  #for TfidfVectorizer\n",
    "#col = ['feat_'+i for i in cv.get_feature_names()]  #for CountVectorizer\n",
    "\n",
    "_xtrain = pd.DataFrame(xtrain, columns=col)  #feature names added\n",
    "_xtest = pd.DataFrame(xtest, columns=col)  #row index from 0 to 6999 (number of reviews);  \n",
    "\n",
    "temptrain=ztrain.loc[:, ['cool', 'useful', 'funny', 'text_len']].reset_index(drop=True)\n",
    "trainfull=pd.concat([temptrain, _xtrain], axis=1)\n",
    "\n",
    "temptest=ztest.loc[:, ['cool', 'useful', 'funny', 'text_len']].reset_index(drop=True)\n",
    "testfull=pd.concat([temptest, _xtest], axis=1)\n",
    "\n",
    "ytrain=ztrain['stars']\n",
    "ytest=ztest['stars']"
   ]
  },
  {
   "cell_type": "code",
   "execution_count": 138,
   "metadata": {},
   "outputs": [
    {
     "data": {
      "image/png": "[encoded data removed]",
      "text/plain": [
       "<matplotlib.figure.Figure at 0x1578fef0>"
      ]
     },
     "metadata": {},
     "output_type": "display_data"
    },
    {
     "name": "stdout",
     "output_type": "stream",
     "text": [
      "RandomForest predictions with default hyparameters for Test\n",
      "\n",
      "Accuracy\n",
      "0.485\n",
      "[[ 67   2   8 108  60]\n",
      " [ 13   4  22 204  43]\n",
      " [  3   0  18 346  77]\n",
      " [  3   0   5 714 306]\n",
      " [  1   0   1 343 652]]\n",
      "             precision    recall  f1-score   support\n",
      "\n",
      "          1       0.77      0.27      0.40       245\n",
      "          2       0.67      0.01      0.03       286\n",
      "          3       0.33      0.04      0.07       444\n",
      "          4       0.42      0.69      0.52      1028\n",
      "          5       0.57      0.65      0.61       997\n",
      "\n",
      "avg / total       0.51      0.48      0.43      3000\n",
      "\n",
      "RandomForestpredictions with default hyparameters for Train\n",
      "\n",
      "Accuracy\n",
      "1.0\n"
     ]
    }
   ],
   "source": [
    "from sklearn.linear_model import LogisticRegression\n",
    "from sklearn.tree import DecisionTreeClassifier\n",
    "from sklearn.ensemble import RandomForestClassifier\n",
    "from xgboost.sklearn import XGBClassifier\n",
    "\n",
    "result=pd.DataFrame()\n",
    "def classifier(classifier, cname, rs): \n",
    "    model=classifier\n",
    "    global result\n",
    "    \n",
    "    '''\n",
    "    model.fit(trainfull, ytrain)\n",
    "    pred=model.predict(testfull)\n",
    "    tpred=model.predict(trainfull)\n",
    "    '''\n",
    "    predproba=pd.DataFrame(model.predict_proba(testfull))\n",
    "    tpredproba=pd.DataFrame(model.predict_proba(trainfull))\n",
    "    \n",
    "    sns.distplot(predproba[0], label=str(cname))  \n",
    "    plt.title(\"Distribution of Prediction Probabilities\") \n",
    "    plt.legend()\n",
    "    plt.show() ###     \n",
    "    \n",
    "    '''\n",
    "    print(cname + ' predictions with default hyparameters for Test'+'\\n')\n",
    "    print('Accuracy')\n",
    "    print(accuracy_score(ytest, pred, normalize=True))\n",
    "    print(confusion_matrix(ytest, pred))\n",
    "    print(classification_report(ytest, pred))  \n",
    "    \n",
    "    print(cname + 'predictions with default hyparameters for Train'+'\\n')\n",
    "    print('Accuracy')\n",
    "    print(accuracy_score(ytrain, tpred, normalize=True))\n",
    "    \n",
    "    #compare bad predictions of different models; \n",
    "    result=pd.concat([result, pd.DataFrame(pred)], axis=1) #to merge the predicted labels back to the dataset;\n",
    "    result.rename(columns={0:str(cname + '_pred')}, inplace=True)\n",
    "    '''\n",
    "#classifier(XGBClassifier(random_state=rs), 'XGBoost', 300)    \n",
    "classifier(RandomForestClassifier(random_state=rs, n_estimators=500), 'RandomForest', 300)\n",
    "#classifier(LogisticRegression(random_state=rs), 'LogisticRegression', 300)"
   ]
  },
  {
   "cell_type": "code",
   "execution_count": 146,
   "metadata": {},
   "outputs": [],
   "source": [
    "data.to_csv('C:/Users/Yunsun2/Desktop/Github/yelp_cleaned.csv', sep=',')"
   ]
  },
  {
   "cell_type": "code",
   "execution_count": 145,
   "metadata": {},
   "outputs": [
    {
     "name": "stdout",
     "output_type": "stream",
     "text": [
      "<class 'pandas.core.frame.DataFrame'>\n",
      "RangeIndex: 10000 entries, 0 to 9999\n",
      "Data columns (total 12 columns):\n",
      "business_id    10000 non-null object\n",
      "date           10000 non-null object\n",
      "review_id      10000 non-null object\n",
      "stars          10000 non-null int64\n",
      "text           10000 non-null object\n",
      "type           10000 non-null object\n",
      "user_id        10000 non-null object\n",
      "cool           10000 non-null int64\n",
      "useful         10000 non-null int64\n",
      "funny          10000 non-null int64\n",
      "textc          10000 non-null object\n",
      "text_len       10000 non-null int64\n",
      "dtypes: int64(5), object(7)\n",
      "memory usage: 937.6+ KB\n"
     ]
    }
   ],
   "source": [
    "df.to_csv(file_name, encoding='utf-8', index=False)"
   ]
  },
  {
   "cell_type": "code",
   "execution_count": 139,
   "metadata": {},
   "outputs": [
    {
     "name": "stdout",
     "output_type": "stream",
     "text": [
      "Conclusions:\n",
      "Performance for stars 1 significantly improved and stars 3, 4, 5 also improved!\n",
      "Remaining issues is: hard to differentiate stars 4 & 5. (try regression instead of classifier?)\n",
      "Marjority of star 3 are categorized to be star 4. (try regression model or adjust the probability threhhold?)\n",
      "Also, marjority of star 1 and 2 are identified to be the opposite 4 & 5 (more feature engineering?)\n"
     ]
    }
   ],
   "source": [
    "print('Conclusions:')\n",
    "print('Performance for stars 1 significantly improved and stars 3, 4, 5 also improved!')\n",
    "print('Remaining issues is: hard to differentiate stars 4 & 5. (try regression instead of classifier?)')\n",
    "print('Marjority of star 3 are categorized to be star 4. (try regression model or adjust the probability threhhold?)')\n",
    "print('Also, marjority of star 1 and 2 are identified to be the opposite 4 & 5 (more feature engineering?)')"
   ]
  }
 ],
 "metadata": {
  "kernelspec": {
   "display_name": "Python 3",
   "language": "python",
   "name": "python3"
  },
  "language_info": {
   "codemirror_mode": {
    "name": "ipython",
    "version": 3
   },
   "file_extension": ".py",
   "mimetype": "text/x-python",
   "name": "python",
   "nbconvert_exporter": "python",
   "pygments_lexer": "ipython3",
   "version": "3.6.3"
  }
 },
 "nbformat": 4,
 "nbformat_minor": 2
}
